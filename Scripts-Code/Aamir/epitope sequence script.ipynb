{
 "cells": [
  {
   "cell_type": "code",
   "execution_count": 17,
   "id": "dfd203cc-5857-491f-b934-053e429a1ffa",
   "metadata": {},
   "outputs": [],
   "source": [
    "# updating node in jupyter was hard, use the version (20) installed on the VM - next cell, and the one after\n",
    "import os\n",
    "os.environ['PATH'] = \"/home/todd/.nvm/versions/node/v20.19.4/bin:\" + os.environ['PATH']"
   ]
  },
  {
   "cell_type": "code",
   "execution_count": 51,
   "id": "bfce5247-ee1e-47ae-bcbe-3e03ec1b34cc",
   "metadata": {},
   "outputs": [
    {
     "name": "stdout",
     "output_type": "stream",
     "text": [
      "Chain A: KGEELFTGVVPILVELDGDVNGHKFSVSGEGEGDATYGKLTLKFICTTGKLPVPWPTLVTTFVQCFARYPDHMKQHDFFKSAMPEGYVQERTIFFKDDGNYKTRAEVKFEGDTLVNRIELKGIDFKEDGNILGHKLEYNYNSHNVYIMADKQKNGIKVNFKIRHNIEDGSVQLADHYQQNTPIGDGPVLLPDNHYLSTQSALSKDPNEKRDHMVLLEFVTAAGI\n",
      "Chain B: KGEELFTGVVPILVELDGDVNGHKFSVSGEGEGDATYGKLTLKFICTTGKLPVPWPTLVTTFVQCFARYPDHMKQHDFFKSAMPEGYVQERTIFFKDDGNYKTRAEVKFEGDTLVNRIELKGIDFKEDGNILGHKLEYNYNSHNVYIMADKQKNGIKVNFKIRHNIEDGSVQLADHYQQNTPIGDGPVLLPDNHYLSTQSALSKDPNEKRDHMVLLEFVTAAGIT\n",
      "Chain D: QVQLVESGGRLVQAGDSLRLSCAASGRTFSTSAMAWFRQAPGREREFVAAITWTVGNTILGDSVKGRFTISRDRAKNTVDLQMDNLEPEDTAVYYCSARSRGYVLSVLRSVDSYDYWGQGTQVTVSG\n",
      "Chain C: QVQLVESGGRLVQAGDSLRLSCAASGRTFSTSAMAWFRQAPGREREFVAAITWTVGNTILGDSVKGRFTISRDRAKNTVDLQMDNLEPEDTAVYYCSARSRGYVLSVLRSVDSYDYWGQGTQVTVS\n",
      "Extracted Sequences:\n",
      "Chain A: KGEELFTGVVPILVELDGDVNGHKFSVSGEGEGDATYGKLTLKFICTTGKLPVPWPTLVTTFVQCFARYPDHMKQHDFFKSAMPEGYVQERTIFFKDDGNYKTRAEVKFEGDTLVNRIELKGIDFKEDGNILGHKLEYNYNSHNVYIMADKQKNGIKVNFKIRHNIEDGSVQLADHYQQNTPIGDGPVLLPDNHYLSTQSALSKDPNEKRDHMVLLEFVTAAGI\n",
      "Chain B: KGEELFTGVVPILVELDGDVNGHKFSVSGEGEGDATYGKLTLKFICTTGKLPVPWPTLVTTFVQCFARYPDHMKQHDFFKSAMPEGYVQERTIFFKDDGNYKTRAEVKFEGDTLVNRIELKGIDFKEDGNILGHKLEYNYNSHNVYIMADKQKNGIKVNFKIRHNIEDGSVQLADHYQQNTPIGDGPVLLPDNHYLSTQSALSKDPNEKRDHMVLLEFVTAAGIT\n",
      "Chain D: QVQLVESGGRLVQAGDSLRLSCAASGRTFSTSAMAWFRQAPGREREFVAAITWTVGNTILGDSVKGRFTISRDRAKNTVDLQMDNLEPEDTAVYYCSARSRGYVLSVLRSVDSYDYWGQGTQVTVSG\n",
      "Chain C: QVQLVESGGRLVQAGDSLRLSCAASGRTFSTSAMAWFRQAPGREREFVAAITWTVGNTILGDSVKGRFTISRDRAKNTVDLQMDNLEPEDTAVYYCSARSRGYVLSVLRSVDSYDYWGQGTQVTVS\n",
      "\n",
      "Epitope Matches:\n"
     ]
    }
   ],
   "source": [
    "from Bio.PDB import PDBParser, PPBuilder\n",
    "\n",
    "# Load the file(8sfs) uploaded\n",
    "pdb_file_path = 'data/fp_nanobodies/Unique Mechanisms/8sfs/8sfs_chothia.pdb'  # No path needed it's in the same folder\n",
    "\n",
    "# Parse the structure\n",
    "parser = PDBParser(QUIET=True)\n",
    "structure = parser.get_structure(\"8sfs\", pdb_file_path)\n",
    "\n",
    "# Extract sequences by chain\n",
    "ppb = PPBuilder()\n",
    "chain_sequences = {}\n",
    "\n",
    "for model in structure:\n",
    "    for chain in model:\n",
    "        peptides = ppb.build_peptides(chain)\n",
    "        if peptides:\n",
    "            sequence = ''.join(str(p.get_sequence()) for p in peptides)\n",
    "            chain_sequences[chain.id] = sequence\n",
    "\n",
    "# Show extracted sequences\n",
    "for chain, seq in chain_sequences.items():\n",
    "    print(f\"Chain {chain}: {seq}\")\n",
    "\n",
    "\n",
    "# ====== Example  ======\n",
    "pdb_file = \"8sfs.pdb\"  # Replace with  full path if needed : # pdb_file = \"/your/full/path/to/8sfs.pdb\"\n",
    "epitopes_to_search = [\"YVTSRT\", \"RQISFV\"]  # Replace with specific epitopes\n",
    "\n",
    "\n",
    "# Extract sequences\n",
    "chain_seqs = extract_sequences_from_pdb(pdb_file_path)\n",
    "\n",
    "# Print sequences\n",
    "print(\"Extracted Sequences:\")\n",
    "for chain, seq in chain_seqs.items():\n",
    "    print(f\"Chain {chain}: {seq}\")\n",
    "\n",
    "# Search for epitopes\n",
    "matches = search_epitopes(chain_seqs, epitopes_to_search)\n",
    "print(\"\\nEpitope Matches:\")\n",
    "for match in matches:\n",
    "    print(f\"Found '{match['epitope']}' in Chain {match['chain']} at position {match['start_position']}-{match['end_position']}\")\n",
    "\n",
    "\n"
   ]
  },
  {
   "cell_type": "code",
   "execution_count": 55,
   "id": "94102fac-2f23-4dfc-9d57-715cd7fd17a9",
   "metadata": {},
   "outputs": [
    {
     "name": "stdout",
     "output_type": "stream",
     "text": [
      "stru, stru_A, 7, L, stru_B, 100, V\n",
      "stru, stru_A, 15, L, stru_B, 53, T\n",
      "stru, stru_A, 15, L, stru_B, 54, V\n",
      "stru, stru_A, 17, E, stru_B, 53, T\n",
      "stru, stru_A, 17, E, stru_B, 73, R\n",
      "stru, stru_A, 89, P, stru_B, 98, G\n",
      "stru, stru_A, 89, P, stru_B, 99, Y\n",
      "stru, stru_A, 89, P, stru_B, 146, O\n",
      "stru, stru_A, 90, E, stru_B, 95, R\n",
      "stru, stru_A, 90, E, stru_B, 97, R\n",
      "stru, stru_A, 90, E, stru_B, 98, G\n",
      "stru, stru_A, 90, E, stru_B, 132, O\n",
      "stru, stru_A, 109, R, stru_B, 27, R\n",
      "stru, stru_A, 109, R, stru_B, 29, F\n",
      "stru, stru_A, 111, E, stru_B, 29, F\n",
      "stru, stru_A, 111, E, stru_B, 30, S\n",
      "stru, stru_A, 113, K, stru_B, 30, S\n",
      "stru, stru_A, 113, K, stru_B, 32, S\n",
      "stru, stru_A, 113, K, stru_B, 96, S\n",
      "stru, stru_A, 113, K, stru_B, 98, G\n",
      "stru, stru_A, 113, K, stru_B, 128, O\n",
      "stru, stru_A, 114, F, stru_B, 98, G\n",
      "stru, stru_A, 114, F, stru_B, 99, Y\n",
      "stru, stru_A, 115, E, stru_B, 32, S\n",
      "stru, stru_A, 115, E, stru_B, 52, T\n",
      "stru, stru_A, 115, E, stru_B, 52A, W\n",
      "stru, stru_A, 115, E, stru_B, 53, T\n",
      "stru, stru_A, 115, E, stru_B, 99, Y\n",
      "stru, stru_A, 115, E, stru_B, 128, O\n",
      "stru, stru_A, 116, G, stru_B, 99, Y\n",
      "stru, stru_A, 116, G, stru_B, 100A, L\n",
      "stru, stru_A, 116, G, stru_B, 137, O\n",
      "stru, stru_A, 120, V, stru_B, 53, T\n",
      "stru, stru_A, 122, R, stru_B, 29, F\n",
      "stru, stru_A, 122, R, stru_B, 53, T\n",
      "stru, stru_A, 122, R, stru_B, 73, R\n",
      "stru, stru_A, 122, R, stru_B, 118, O\n",
      "stru, stru_A, 122, R, stru_B, 128, O\n",
      "stru, stru_A, 122, R, stru_B, 131, O\n",
      "stru, stru_A, 124, E, stru_B, 27, R\n",
      "stru, stru_A, 124, E, stru_B, 29, F\n",
      "stru, stru_A, 188, I, stru_B, 97, R\n",
      "stru, stru_A, 418, O, stru_B, 53, T\n",
      "stru, stru_A, 421, O, stru_B, 27, R\n",
      "stru, stru_A, 421, O, stru_B, 29, F\n",
      "stru, stru_A, 425, O, stru_B, 54, V\n",
      "stru, stru_A, 425, O, stru_B, 56, N\n",
      "stru, stru_A, 430, O, stru_B, 52, T\n",
      "stru, stru_A, 430, O, stru_B, 53, T\n",
      "stru, stru_A, 430, O, stru_B, 54, V\n",
      "stru, stru_A, 457, O, stru_B, 128, O\n",
      "stru, stru_A, 460, O, stru_B, 29, F\n",
      "stru, stru_A, 526, O, stru_B, 137, O\n",
      "stru, stru_A, 528, O, stru_B, 100, V\n",
      "stru, stru_A, 528, O, stru_B, 137, O\n"
     ]
    },
    {
     "data": {
      "text/plain": [
       "'data/fp_nanobodies/Unique Mechanisms/8sfs/8sfs_chothia.pdb'"
      ]
     },
     "execution_count": 55,
     "metadata": {},
     "output_type": "execute_result"
    }
   ],
   "source": [
    "path = 'data/fp_nanobodies/Affinity\\ reagents/6lr7/6lr7_chothia.pdb'\n",
    "# path = 'data/fp_nanobodies/Unique Mechanisms/8sfs/8sfs_chothia.pdb'\n",
    "!node epitope_local.js {path} A B"
   ]
  },
  {
   "cell_type": "code",
   "execution_count": 15,
   "id": "afadf186-180d-49ca-ab5f-e7c33b370540",
   "metadata": {},
   "outputs": [
    {
     "name": "stdout",
     "output_type": "stream",
     "text": [
      "SHELL=/usr/bin/bash\n",
      "JUPYTERHUB_SERVICE_URL=http://127.0.0.1:53401/user/aamir/\n",
      "JUPYTERHUB_API_TOKEN=54952851c2e846b2ad57999a25195f02\n",
      "JUPYTERHUB_BASE_URL=/\n",
      "JUPYTERHUB_PUBLIC_URL=\n",
      "PWD=/home/aamir\n",
      "JPY_SESSION_NAME=/home/aamir/Untitled1.ipynb\n",
      "JUPYTERHUB_SERVER_NAME=\n",
      "JUPYTERHUB_DEFAULT_URL=/lab\n",
      "HOME=/home/aamir\n",
      "LANG=C.UTF-8\n",
      "JPY_API_TOKEN=54952851c2e846b2ad57999a25195f02\n",
      "FORCE_COLOR=1\n",
      "JUPYTERHUB_SERVICE_PREFIX=/user/aamir/\n",
      "PYDEVD_USE_FRAME_EVAL=NO\n",
      "JUPYTERHUB_OAUTH_CALLBACK_URL=/user/aamir/oauth_callback\n",
      "CLICOLOR=1\n",
      "CLICOLOR_FORCE=1\n",
      "JUPYTERHUB_OAUTH_CLIENT_ALLOWED_SCOPES=[]\n",
      "JPY_PARENT_PID=125351\n",
      "TERM=xterm-color\n",
      "USER=aamir\n",
      "GIT_PAGER=cat\n",
      "JUPYTERHUB_OAUTH_ACCESS_SCOPES=[\"access:servers!server=aamir/\", \"access:servers!user=aamir\"]\n",
      "JUPYTERHUB_COOKIE_HOST_PREFIX_ENABLED=0\n",
      "SHLVL=0\n",
      "PAGER=cat\n",
      "JUPYTERHUB_API_URL=http://127.0.0.1:8081/hub/api\n",
      "JUPYTERHUB_CLIENT_ID=jupyterhub-user-aamir\n",
      "JUPYTERHUB_OAUTH_SCOPES=[\"access:servers!server=aamir/\", \"access:servers!user=aamir\"]\n",
      "JUPYTERHUB_PUBLIC_HUB_URL=\n",
      "JUPYTERHUB_HOST=\n",
      "MPLBACKEND=module://matplotlib_inline.backend_inline\n",
      "PATH=/home/todd/.nvm/versions/node/v20.19.4/bin:/bin:/usr/local/sbin:/usr/local/bin:/usr/sbin:/usr/bin:/opt/jupyterhub/bin\n",
      "JUPYTERHUB_USER=aamir\n",
      "JUPYTERHUB_ACTIVITY_URL=http://127.0.0.1:8081/hub/api/users/aamir/activity\n",
      "_=/bin/env\n"
     ]
    }
   ],
   "source": [
    "!env"
   ]
  },
  {
   "cell_type": "code",
   "execution_count": null,
   "id": "9b74f734-6140-4122-bfdd-af545e26b5fc",
   "metadata": {},
   "outputs": [],
   "source": []
  }
 ],
 "metadata": {
  "kernelspec": {
   "display_name": "Python 3 (ipykernel)",
   "language": "python",
   "name": "python3"
  },
  "language_info": {
   "codemirror_mode": {
    "name": "ipython",
    "version": 3
   },
   "file_extension": ".py",
   "mimetype": "text/x-python",
   "name": "python",
   "nbconvert_exporter": "python",
   "pygments_lexer": "ipython3",
   "version": "3.10.12"
  }
 },
 "nbformat": 4,
 "nbformat_minor": 5
}
